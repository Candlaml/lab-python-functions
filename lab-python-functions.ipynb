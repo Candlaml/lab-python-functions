{
 "cells": [
  {
   "cell_type": "markdown",
   "id": "25d7736c-ba17-4aff-b6bb-66eba20fbf4e",
   "metadata": {},
   "source": [
    "# Lab | Functions"
   ]
  },
  {
   "cell_type": "markdown",
   "id": "0c581062-8967-4d93-b06e-62833222f930",
   "metadata": {
    "tags": []
   },
   "source": [
    "## Exercise: Managing Customer Orders with Functions\n",
    "\n",
    "In the previous exercise, you improved the code for managing customer orders by using loops and flow control. Now, let's take it a step further and refactor the code by introducing functions.\n",
    "\n",
    "Follow the steps below to complete the exercise:\n",
    "\n",
    "1. Define a function named `initialize_inventory` that takes `products` as a parameter. Inside the function, implement the code for initializing the inventory dictionary using a loop and user input.\n",
    "\n",
    "2. Define a function named `get_customer_orders` that takes no parameters. Inside the function, implement the code for prompting the user to enter the product names using a loop. The function should return the `customer_orders` set.\n",
    "\n",
    "3. Define a function named `update_inventory` that takes `customer_orders` and `inventory` as parameters. Inside the function, implement the code for updating the inventory dictionary based on the customer orders.\n",
    "\n",
    "4. Define a function named `calculate_order_statistics` that takes `customer_orders` and `products` as parameters. Inside the function, implement the code for calculating the order statistics (total products ordered, and percentage of unique products ordered). The function should return these values.\n",
    "\n",
    "5. Define a function named `print_order_statistics` that takes `order_statistics` as a parameter. Inside the function, implement the code for printing the order statistics.\n",
    "\n",
    "6. Define a function named `print_updated_inventory` that takes `inventory` as a parameter. Inside the function, implement the code for printing the updated inventory.\n",
    "\n",
    "7. Call the functions in the appropriate sequence to execute the program and manage customer orders.\n",
    "\n",
    "Hints for functions:\n",
    "\n",
    "- Consider the input parameters required for each function and their return values.\n",
    "- Utilize function parameters and return values to transfer data between functions.\n",
    "- Test your functions individually to ensure they work correctly.\n",
    "\n",
    "\n"
   ]
  },
  {
   "cell_type": "code",
   "execution_count": 20,
   "id": "137c196f-bf20-4ce9-a222-0f450c44d6df",
   "metadata": {},
   "outputs": [
    {
     "name": "stdin",
     "output_type": "stream",
     "text": [
      "Please enter the number of t-shirts available in inventory:  200\n",
      "Please enter the number of mugs available in inventory:  200\n",
      "Please enter the number of hats available in inventory:  200\n",
      "Please enter the number of books available in inventory:  200\n",
      "Please enter the number of keychains available in inventory:  200\n"
     ]
    }
   ],
   "source": [
    "def initialize_inventory(products):\n",
    "    inventory = {}\n",
    "    for product in products:\n",
    "        product_quantity = int(input(f\"Please enter the number of {product}s available in inventory: \"))\n",
    "        inventory[product] = product_quantity\n",
    "    return inventory\n",
    "\n",
    "products = [\"t-shirt\", \"mug\", \"hat\", \"book\", \"keychain\"]\n",
    "inventory = initialize_inventory(products)\n"
   ]
  },
  {
   "cell_type": "code",
   "execution_count": 22,
   "id": "8ae2665c-6627-42a1-9de2-c694d2c5ab7d",
   "metadata": {},
   "outputs": [
    {
     "name": "stdin",
     "output_type": "stream",
     "text": [
      "Please enter the name of the product you wish to order:  book\n"
     ]
    },
    {
     "name": "stdout",
     "output_type": "stream",
     "text": [
      "'book' has been added to your order.\n"
     ]
    },
    {
     "name": "stdin",
     "output_type": "stream",
     "text": [
      "Would you like to add another product? (yes/no):  yes\n",
      "Please enter the name of the product you wish to order:  mug\n"
     ]
    },
    {
     "name": "stdout",
     "output_type": "stream",
     "text": [
      "'mug' has been added to your order.\n"
     ]
    },
    {
     "name": "stdin",
     "output_type": "stream",
     "text": [
      "Would you like to add another product? (yes/no):  yes\n",
      "Please enter the name of the product you wish to order:  t-shirt\n"
     ]
    },
    {
     "name": "stdout",
     "output_type": "stream",
     "text": [
      "'t-shirt' has been added to your order.\n"
     ]
    },
    {
     "name": "stdin",
     "output_type": "stream",
     "text": [
      "Would you like to add another product? (yes/no):  no\n"
     ]
    },
    {
     "name": "stdout",
     "output_type": "stream",
     "text": [
      "\n",
      "Customer Order:\n",
      "book\n",
      "t-shirt\n",
      "mug\n"
     ]
    }
   ],
   "source": [
    "def get_customer_orders():\n",
    "    customer_orders = set()\n",
    "    products = [\"t-shirt\", \"mug\", \"hat\", \"book\", \"keychain\"]\n",
    "\n",
    "    while True:\n",
    "        order = input(\"Please enter the name of the product you wish to order: \").strip().lower()\n",
    "\n",
    "        if order in products:\n",
    "            customer_orders.add(order)\n",
    "            print(f\"'{order}' has been added to your order.\")\n",
    "        else:\n",
    "            print(f\"'{order}' is not a valid product. Please choose from: {products}.\")\n",
    "\n",
    "        while True:  \n",
    "            additional_order = input(\"Would you like to add another product? (yes/no): \").strip().lower()\n",
    "\n",
    "            if additional_order == \"yes\":\n",
    "                break  \n",
    "            elif additional_order == \"no\":\n",
    "                print(\"\\nCustomer Order:\")\n",
    "                for product in customer_orders:\n",
    "                    print(f\"{product}\")\n",
    "                return customer_orders\n",
    "            else:\n",
    "                print('Option not valid. Please confirm if you wish to add another product by typing \"yes\" or \"no\".')\n",
    "           \n",
    "customer_orders = get_customer_orders()\n"
   ]
  },
  {
   "cell_type": "code",
   "execution_count": 24,
   "id": "7905a01d-222f-456f-82b8-75278507a8fc",
   "metadata": {},
   "outputs": [
    {
     "name": "stdin",
     "output_type": "stream",
     "text": [
      "Please enter the number of t-shirts available in inventory:  200\n",
      "Please enter the number of mugs available in inventory:  200\n",
      "Please enter the number of hats available in inventory:  200\n",
      "Please enter the number of books available in inventory:  200\n",
      "Please enter the number of keychains available in inventory:  200\n",
      "Please enter the name of the product you wish to order:  t-shirt\n"
     ]
    },
    {
     "name": "stdout",
     "output_type": "stream",
     "text": [
      "'t-shirt' has been added to your order.\n"
     ]
    },
    {
     "name": "stdin",
     "output_type": "stream",
     "text": [
      "Would you like to add another product? (yes/no):  yes\n",
      "Please enter the name of the product you wish to order:  mug\n"
     ]
    },
    {
     "name": "stdout",
     "output_type": "stream",
     "text": [
      "'mug' has been added to your order.\n"
     ]
    },
    {
     "name": "stdin",
     "output_type": "stream",
     "text": [
      "Would you like to add another product? (yes/no):  yes\n",
      "Please enter the name of the product you wish to order:  book\n"
     ]
    },
    {
     "name": "stdout",
     "output_type": "stream",
     "text": [
      "'book' has been added to your order.\n"
     ]
    },
    {
     "name": "stdin",
     "output_type": "stream",
     "text": [
      "Would you like to add another product? (yes/no):  no\n"
     ]
    },
    {
     "name": "stdout",
     "output_type": "stream",
     "text": [
      "\n",
      "Customer Order:\n",
      "book\n",
      "t-shirt\n",
      "mug\n",
      "\n",
      "Updated Inventory:\n",
      "t-shirt: 199\n",
      "mug: 199\n",
      "hat: 200\n",
      "book: 199\n",
      "keychain: 200\n"
     ]
    }
   ],
   "source": [
    "def update_inventory (customer_orders, inventory):\n",
    "    \n",
    "    for product in customer_orders:\n",
    "        if product in inventory and inventory[product]>0:\n",
    "            inventory[product]-=1\n",
    "        elif product in inventory and inventory[product]==0:\n",
    "            print(f\"{product} is out of stock\")\n",
    "        else:\n",
    "            print(f\"Product not in inventory\")\n",
    "\n",
    "    return inventory\n",
    "\n",
    "products = [\"t-shirt\", \"mug\", \"hat\", \"book\", \"keychain\"]  \n",
    "inventory = initialize_inventory(products)\n",
    "customer_orders = get_customer_orders()\n",
    "\n",
    "updated_inventory = update_inventory(customer_orders, inventory)\n",
    "\n",
    "print(\"\\nUpdated Inventory:\")\n",
    "for item, quantity in updated_inventory.items():\n",
    "    print(f\"{item}: {quantity}\")\n",
    "\n",
    "def calculate_order_statistics (customer_orders, products):\n",
    "   \n",
    "    total_products_ordered = len(customer_orders)\n",
    "    percentage_ordered = (total_products_ordered / len(products)) * 100 if len(products) > 0 else 0\n",
    "\n",
    "    return total_products_ordered, percentage_ordered\n",
    "\n",
    "order_statistics = calculate_order_statistics(customer_orders, products)\n"
   ]
  },
  {
   "cell_type": "code",
   "execution_count": 26,
   "id": "6d6d8519-e767-466c-a3ea-4300b43118bf",
   "metadata": {},
   "outputs": [
    {
     "name": "stdout",
     "output_type": "stream",
     "text": [
      "\n",
      "Order Statistics:\n",
      "- Total Unique Products Ordered: 3\n",
      "- Percentage of Unique Products Ordered: 60.00%\n"
     ]
    }
   ],
   "source": [
    "def print_order_statistics(order_statistics):\n",
    "    \n",
    "    total_products_ordered, percentage_ordered = order_statistics\n",
    "\n",
    "    print(\"\\nOrder Statistics:\")\n",
    "    print(f\"- Total Unique Products Ordered: {total_products_ordered}\")\n",
    "    print(f\"- Percentage of Unique Products Ordered: {percentage_ordered:.2f}%\")\n",
    "\n",
    "print_order_statistics(order_statistics)  \n",
    " \n"
   ]
  },
  {
   "cell_type": "code",
   "execution_count": 28,
   "id": "29f67212-eb9b-478a-9829-286ec32209cb",
   "metadata": {},
   "outputs": [
    {
     "name": "stdout",
     "output_type": "stream",
     "text": [
      "\n",
      "Updated Inventory:\n",
      "- t-shirt: 199 remaining\n",
      "- mug: 199 remaining\n",
      "- hat: 200 remaining\n",
      "- book: 199 remaining\n",
      "- keychain: 200 remaining\n"
     ]
    }
   ],
   "source": [
    "def print_updated_inventory(inventory):\n",
    "    \n",
    "    print(\"\\nUpdated Inventory:\")\n",
    "    for product, quantity in inventory.items():\n",
    "        print(f\"- {product}: {quantity} remaining\")\n",
    "\n",
    "print_updated_inventory(inventory)\n"
   ]
  },
  {
   "cell_type": "code",
   "execution_count": null,
   "id": "7dcca1f5-65bf-424c-9443-7c85bb1d8826",
   "metadata": {},
   "outputs": [],
   "source": []
  }
 ],
 "metadata": {
  "kernelspec": {
   "display_name": "Python [conda env:base] *",
   "language": "python",
   "name": "conda-base-py"
  },
  "language_info": {
   "codemirror_mode": {
    "name": "ipython",
    "version": 3
   },
   "file_extension": ".py",
   "mimetype": "text/x-python",
   "name": "python",
   "nbconvert_exporter": "python",
   "pygments_lexer": "ipython3",
   "version": "3.12.7"
  }
 },
 "nbformat": 4,
 "nbformat_minor": 5
}
